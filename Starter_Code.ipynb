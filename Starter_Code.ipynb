{
  "cells": [
    {
      "cell_type": "markdown",
      "metadata": {
        "id": "view-in-github",
        "colab_type": "text"
      },
      "source": [
        "<a href=\"https://colab.research.google.com/github/themacdrea/deep-learning-challenge/blob/main/Starter_Code.ipynb\" target=\"_parent\"><img src=\"https://colab.research.google.com/assets/colab-badge.svg\" alt=\"Open In Colab\"/></a>"
      ]
    },
    {
      "cell_type": "markdown",
      "metadata": {
        "id": "fwNWaDuwevvZ"
      },
      "source": [
        "## Preprocessing"
      ]
    },
    {
      "cell_type": "code",
      "execution_count": 1,
      "metadata": {
        "colab": {
          "base_uri": "https://localhost:8080/",
          "height": 452
        },
        "id": "gLyj6uMMevvi",
        "outputId": "ced6b813-7555-4708-e4bf-5bad3182b51f"
      },
      "outputs": [
        {
          "output_type": "execute_result",
          "data": {
            "text/plain": [
              "        EIN                                      NAME APPLICATION_TYPE  \\\n",
              "0  10520599              BLUE KNIGHTS MOTORCYCLE CLUB              T10   \n",
              "1  10531628    AMERICAN CHESAPEAKE CLUB CHARITABLE TR               T3   \n",
              "2  10547893        ST CLOUD PROFESSIONAL FIREFIGHTERS               T5   \n",
              "3  10553066            SOUTHSIDE ATHLETIC ASSOCIATION               T3   \n",
              "4  10556103  GENETIC RESEARCH INSTITUTE OF THE DESERT               T3   \n",
              "\n",
              "        AFFILIATION CLASSIFICATION      USE_CASE  ORGANIZATION  STATUS  \\\n",
              "0       Independent          C1000    ProductDev   Association       1   \n",
              "1       Independent          C2000  Preservation  Co-operative       1   \n",
              "2  CompanySponsored          C3000    ProductDev   Association       1   \n",
              "3  CompanySponsored          C2000  Preservation         Trust       1   \n",
              "4       Independent          C1000     Heathcare         Trust       1   \n",
              "\n",
              "      INCOME_AMT SPECIAL_CONSIDERATIONS  ASK_AMT  IS_SUCCESSFUL  \n",
              "0              0                      N     5000              1  \n",
              "1         1-9999                      N   108590              1  \n",
              "2              0                      N     5000              0  \n",
              "3    10000-24999                      N     6692              1  \n",
              "4  100000-499999                      N   142590              1  "
            ],
            "text/html": [
              "\n",
              "  <div id=\"df-96051257-b71c-405c-a977-54f0971d6267\" class=\"colab-df-container\">\n",
              "    <div>\n",
              "<style scoped>\n",
              "    .dataframe tbody tr th:only-of-type {\n",
              "        vertical-align: middle;\n",
              "    }\n",
              "\n",
              "    .dataframe tbody tr th {\n",
              "        vertical-align: top;\n",
              "    }\n",
              "\n",
              "    .dataframe thead th {\n",
              "        text-align: right;\n",
              "    }\n",
              "</style>\n",
              "<table border=\"1\" class=\"dataframe\">\n",
              "  <thead>\n",
              "    <tr style=\"text-align: right;\">\n",
              "      <th></th>\n",
              "      <th>EIN</th>\n",
              "      <th>NAME</th>\n",
              "      <th>APPLICATION_TYPE</th>\n",
              "      <th>AFFILIATION</th>\n",
              "      <th>CLASSIFICATION</th>\n",
              "      <th>USE_CASE</th>\n",
              "      <th>ORGANIZATION</th>\n",
              "      <th>STATUS</th>\n",
              "      <th>INCOME_AMT</th>\n",
              "      <th>SPECIAL_CONSIDERATIONS</th>\n",
              "      <th>ASK_AMT</th>\n",
              "      <th>IS_SUCCESSFUL</th>\n",
              "    </tr>\n",
              "  </thead>\n",
              "  <tbody>\n",
              "    <tr>\n",
              "      <th>0</th>\n",
              "      <td>10520599</td>\n",
              "      <td>BLUE KNIGHTS MOTORCYCLE CLUB</td>\n",
              "      <td>T10</td>\n",
              "      <td>Independent</td>\n",
              "      <td>C1000</td>\n",
              "      <td>ProductDev</td>\n",
              "      <td>Association</td>\n",
              "      <td>1</td>\n",
              "      <td>0</td>\n",
              "      <td>N</td>\n",
              "      <td>5000</td>\n",
              "      <td>1</td>\n",
              "    </tr>\n",
              "    <tr>\n",
              "      <th>1</th>\n",
              "      <td>10531628</td>\n",
              "      <td>AMERICAN CHESAPEAKE CLUB CHARITABLE TR</td>\n",
              "      <td>T3</td>\n",
              "      <td>Independent</td>\n",
              "      <td>C2000</td>\n",
              "      <td>Preservation</td>\n",
              "      <td>Co-operative</td>\n",
              "      <td>1</td>\n",
              "      <td>1-9999</td>\n",
              "      <td>N</td>\n",
              "      <td>108590</td>\n",
              "      <td>1</td>\n",
              "    </tr>\n",
              "    <tr>\n",
              "      <th>2</th>\n",
              "      <td>10547893</td>\n",
              "      <td>ST CLOUD PROFESSIONAL FIREFIGHTERS</td>\n",
              "      <td>T5</td>\n",
              "      <td>CompanySponsored</td>\n",
              "      <td>C3000</td>\n",
              "      <td>ProductDev</td>\n",
              "      <td>Association</td>\n",
              "      <td>1</td>\n",
              "      <td>0</td>\n",
              "      <td>N</td>\n",
              "      <td>5000</td>\n",
              "      <td>0</td>\n",
              "    </tr>\n",
              "    <tr>\n",
              "      <th>3</th>\n",
              "      <td>10553066</td>\n",
              "      <td>SOUTHSIDE ATHLETIC ASSOCIATION</td>\n",
              "      <td>T3</td>\n",
              "      <td>CompanySponsored</td>\n",
              "      <td>C2000</td>\n",
              "      <td>Preservation</td>\n",
              "      <td>Trust</td>\n",
              "      <td>1</td>\n",
              "      <td>10000-24999</td>\n",
              "      <td>N</td>\n",
              "      <td>6692</td>\n",
              "      <td>1</td>\n",
              "    </tr>\n",
              "    <tr>\n",
              "      <th>4</th>\n",
              "      <td>10556103</td>\n",
              "      <td>GENETIC RESEARCH INSTITUTE OF THE DESERT</td>\n",
              "      <td>T3</td>\n",
              "      <td>Independent</td>\n",
              "      <td>C1000</td>\n",
              "      <td>Heathcare</td>\n",
              "      <td>Trust</td>\n",
              "      <td>1</td>\n",
              "      <td>100000-499999</td>\n",
              "      <td>N</td>\n",
              "      <td>142590</td>\n",
              "      <td>1</td>\n",
              "    </tr>\n",
              "  </tbody>\n",
              "</table>\n",
              "</div>\n",
              "    <div class=\"colab-df-buttons\">\n",
              "\n",
              "  <div class=\"colab-df-container\">\n",
              "    <button class=\"colab-df-convert\" onclick=\"convertToInteractive('df-96051257-b71c-405c-a977-54f0971d6267')\"\n",
              "            title=\"Convert this dataframe to an interactive table.\"\n",
              "            style=\"display:none;\">\n",
              "\n",
              "  <svg xmlns=\"http://www.w3.org/2000/svg\" height=\"24px\" viewBox=\"0 -960 960 960\">\n",
              "    <path d=\"M120-120v-720h720v720H120Zm60-500h600v-160H180v160Zm220 220h160v-160H400v160Zm0 220h160v-160H400v160ZM180-400h160v-160H180v160Zm440 0h160v-160H620v160ZM180-180h160v-160H180v160Zm440 0h160v-160H620v160Z\"/>\n",
              "  </svg>\n",
              "    </button>\n",
              "\n",
              "  <style>\n",
              "    .colab-df-container {\n",
              "      display:flex;\n",
              "      gap: 12px;\n",
              "    }\n",
              "\n",
              "    .colab-df-convert {\n",
              "      background-color: #E8F0FE;\n",
              "      border: none;\n",
              "      border-radius: 50%;\n",
              "      cursor: pointer;\n",
              "      display: none;\n",
              "      fill: #1967D2;\n",
              "      height: 32px;\n",
              "      padding: 0 0 0 0;\n",
              "      width: 32px;\n",
              "    }\n",
              "\n",
              "    .colab-df-convert:hover {\n",
              "      background-color: #E2EBFA;\n",
              "      box-shadow: 0px 1px 2px rgba(60, 64, 67, 0.3), 0px 1px 3px 1px rgba(60, 64, 67, 0.15);\n",
              "      fill: #174EA6;\n",
              "    }\n",
              "\n",
              "    .colab-df-buttons div {\n",
              "      margin-bottom: 4px;\n",
              "    }\n",
              "\n",
              "    [theme=dark] .colab-df-convert {\n",
              "      background-color: #3B4455;\n",
              "      fill: #D2E3FC;\n",
              "    }\n",
              "\n",
              "    [theme=dark] .colab-df-convert:hover {\n",
              "      background-color: #434B5C;\n",
              "      box-shadow: 0px 1px 3px 1px rgba(0, 0, 0, 0.15);\n",
              "      filter: drop-shadow(0px 1px 2px rgba(0, 0, 0, 0.3));\n",
              "      fill: #FFFFFF;\n",
              "    }\n",
              "  </style>\n",
              "\n",
              "    <script>\n",
              "      const buttonEl =\n",
              "        document.querySelector('#df-96051257-b71c-405c-a977-54f0971d6267 button.colab-df-convert');\n",
              "      buttonEl.style.display =\n",
              "        google.colab.kernel.accessAllowed ? 'block' : 'none';\n",
              "\n",
              "      async function convertToInteractive(key) {\n",
              "        const element = document.querySelector('#df-96051257-b71c-405c-a977-54f0971d6267');\n",
              "        const dataTable =\n",
              "          await google.colab.kernel.invokeFunction('convertToInteractive',\n",
              "                                                    [key], {});\n",
              "        if (!dataTable) return;\n",
              "\n",
              "        const docLinkHtml = 'Like what you see? Visit the ' +\n",
              "          '<a target=\"_blank\" href=https://colab.research.google.com/notebooks/data_table.ipynb>data table notebook</a>'\n",
              "          + ' to learn more about interactive tables.';\n",
              "        element.innerHTML = '';\n",
              "        dataTable['output_type'] = 'display_data';\n",
              "        await google.colab.output.renderOutput(dataTable, element);\n",
              "        const docLink = document.createElement('div');\n",
              "        docLink.innerHTML = docLinkHtml;\n",
              "        element.appendChild(docLink);\n",
              "      }\n",
              "    </script>\n",
              "  </div>\n",
              "\n",
              "\n",
              "<div id=\"df-582db84a-7c6d-4e9d-8f75-f85555d7cbb3\">\n",
              "  <button class=\"colab-df-quickchart\" onclick=\"quickchart('df-582db84a-7c6d-4e9d-8f75-f85555d7cbb3')\"\n",
              "            title=\"Suggest charts.\"\n",
              "            style=\"display:none;\">\n",
              "\n",
              "<svg xmlns=\"http://www.w3.org/2000/svg\" height=\"24px\"viewBox=\"0 0 24 24\"\n",
              "     width=\"24px\">\n",
              "    <g>\n",
              "        <path d=\"M19 3H5c-1.1 0-2 .9-2 2v14c0 1.1.9 2 2 2h14c1.1 0 2-.9 2-2V5c0-1.1-.9-2-2-2zM9 17H7v-7h2v7zm4 0h-2V7h2v10zm4 0h-2v-4h2v4z\"/>\n",
              "    </g>\n",
              "</svg>\n",
              "  </button>\n",
              "\n",
              "<style>\n",
              "  .colab-df-quickchart {\n",
              "    background-color: #E8F0FE;\n",
              "    border: none;\n",
              "    border-radius: 50%;\n",
              "    cursor: pointer;\n",
              "    display: none;\n",
              "    fill: #1967D2;\n",
              "    height: 32px;\n",
              "    padding: 0 0 0 0;\n",
              "    width: 32px;\n",
              "  }\n",
              "\n",
              "  .colab-df-quickchart:hover {\n",
              "    background-color: #E2EBFA;\n",
              "    box-shadow: 0px 1px 2px rgba(60, 64, 67, 0.3), 0px 1px 3px 1px rgba(60, 64, 67, 0.15);\n",
              "    fill: #174EA6;\n",
              "  }\n",
              "\n",
              "  [theme=dark] .colab-df-quickchart {\n",
              "    background-color: #3B4455;\n",
              "    fill: #D2E3FC;\n",
              "  }\n",
              "\n",
              "  [theme=dark] .colab-df-quickchart:hover {\n",
              "    background-color: #434B5C;\n",
              "    box-shadow: 0px 1px 3px 1px rgba(0, 0, 0, 0.15);\n",
              "    filter: drop-shadow(0px 1px 2px rgba(0, 0, 0, 0.3));\n",
              "    fill: #FFFFFF;\n",
              "  }\n",
              "</style>\n",
              "\n",
              "  <script>\n",
              "    async function quickchart(key) {\n",
              "      const charts = await google.colab.kernel.invokeFunction(\n",
              "          'suggestCharts', [key], {});\n",
              "    }\n",
              "    (() => {\n",
              "      let quickchartButtonEl =\n",
              "        document.querySelector('#df-582db84a-7c6d-4e9d-8f75-f85555d7cbb3 button');\n",
              "      quickchartButtonEl.style.display =\n",
              "        google.colab.kernel.accessAllowed ? 'block' : 'none';\n",
              "    })();\n",
              "  </script>\n",
              "</div>\n",
              "    </div>\n",
              "  </div>\n"
            ]
          },
          "metadata": {},
          "execution_count": 1
        }
      ],
      "source": [
        "# Import our dependencies\n",
        "from sklearn.model_selection import train_test_split\n",
        "from sklearn.preprocessing import StandardScaler\n",
        "import pandas as pd\n",
        "import tensorflow as tf\n",
        "\n",
        "#  Import and read the charity_data.csv.\n",
        "import pandas as pd\n",
        "application_df = pd.read_csv(\"https://static.bc-edx.com/data/dl-1-2/m21/lms/starter/charity_data.csv\")\n",
        "application_df.head()"
      ]
    },
    {
      "cell_type": "code",
      "execution_count": 2,
      "metadata": {
        "id": "UXrlpWQ0evvq"
      },
      "outputs": [],
      "source": [
        "# Drop the non-beneficial ID columns, 'EIN' and 'NAME'.\n",
        "application_df = application_df.drop(['EIN', 'NAME'], axis=1)"
      ]
    },
    {
      "cell_type": "code",
      "execution_count": 3,
      "metadata": {
        "colab": {
          "base_uri": "https://localhost:8080/"
        },
        "id": "xwD3rpwgevvu",
        "outputId": "f7b57190-07d9-4e83-f69d-333fa56ad4bd"
      },
      "outputs": [
        {
          "output_type": "stream",
          "name": "stdout",
          "text": [
            "APPLICATION_TYPE            17\n",
            "AFFILIATION                  6\n",
            "CLASSIFICATION              71\n",
            "USE_CASE                     5\n",
            "ORGANIZATION                 4\n",
            "STATUS                       2\n",
            "INCOME_AMT                   9\n",
            "SPECIAL_CONSIDERATIONS       2\n",
            "ASK_AMT                   8747\n",
            "IS_SUCCESSFUL                2\n",
            "dtype: int64\n"
          ]
        }
      ],
      "source": [
        "# Determine the number of unique values in each column.\n",
        "unique_value_counts = application_df.nunique()\n",
        "\n",
        "print(unique_value_counts)\n"
      ]
    },
    {
      "cell_type": "code",
      "execution_count": 4,
      "metadata": {
        "colab": {
          "base_uri": "https://localhost:8080/"
        },
        "id": "iihRIKfGevvx",
        "outputId": "9a03a13d-098c-4829-9fcb-0d8a66086a30"
      },
      "outputs": [
        {
          "output_type": "stream",
          "name": "stdout",
          "text": [
            "T3     27037\n",
            "T4      1542\n",
            "T6      1216\n",
            "T5      1173\n",
            "T19     1065\n",
            "T8       737\n",
            "T7       725\n",
            "T10      528\n",
            "T9       156\n",
            "T13       66\n",
            "T12       27\n",
            "T2        16\n",
            "T25        3\n",
            "T14        3\n",
            "T29        2\n",
            "T15        2\n",
            "T17        1\n",
            "Name: APPLICATION_TYPE, dtype: int64\n"
          ]
        }
      ],
      "source": [
        "# Look at APPLICATION_TYPE value counts for binning\n",
        "application_type_counts = application_df['APPLICATION_TYPE'].value_counts()\n",
        "print(application_type_counts)\n"
      ]
    },
    {
      "cell_type": "code",
      "execution_count": 6,
      "metadata": {
        "colab": {
          "base_uri": "https://localhost:8080/"
        },
        "id": "Dwqa0UYcevvz",
        "outputId": "c64e83d8-e801-4d2d-a63a-ffe7ddd712eb"
      },
      "outputs": [
        {
          "output_type": "stream",
          "name": "stdout",
          "text": [
            "T3       27037\n",
            "T4        1542\n",
            "T6        1216\n",
            "T5        1173\n",
            "T19       1065\n",
            "T8         737\n",
            "T7         725\n",
            "T10        528\n",
            "Other      276\n",
            "Name: APPLICATION_TYPE, dtype: int64\n"
          ]
        }
      ],
      "source": [
        "# Choose a cutoff value and create a list of application types to be replaced\n",
        "# use the variable name `application_types_to_replace`\n",
        "cutoff_value = 500\n",
        "below_cutoff_types = application_df['APPLICATION_TYPE'].value_counts()[application_df['APPLICATION_TYPE'].value_counts() < cutoff_value].index.tolist()\n",
        "\n",
        "# Replace in dataframe\n",
        "application_df['APPLICATION_TYPE'] = application_df['APPLICATION_TYPE'].apply(lambda x: 'Other' if x in below_cutoff_types else x)\n",
        "\n",
        "# Check to make sure binning was successful\n",
        "application_type_value_counts = application_df['APPLICATION_TYPE'].value_counts()\n",
        "print(application_type_value_counts)"
      ]
    },
    {
      "cell_type": "code",
      "execution_count": 7,
      "metadata": {
        "colab": {
          "base_uri": "https://localhost:8080/"
        },
        "id": "2rcNPRbuevv1",
        "outputId": "36fe232e-0b7e-4e96-da84-3547d526e78e"
      },
      "outputs": [
        {
          "output_type": "stream",
          "name": "stdout",
          "text": [
            "C1000    17326\n",
            "C2000     6074\n",
            "C1200     4837\n",
            "C3000     1918\n",
            "C2100     1883\n",
            "         ...  \n",
            "C4120        1\n",
            "C8210        1\n",
            "C2561        1\n",
            "C4500        1\n",
            "C2150        1\n",
            "Name: CLASSIFICATION, Length: 71, dtype: int64\n"
          ]
        }
      ],
      "source": [
        "# Look at CLASSIFICATION value counts for binning\n",
        "classification_value_counts = application_df['CLASSIFICATION'].value_counts()\n",
        "print(classification_value_counts)"
      ]
    },
    {
      "cell_type": "code",
      "execution_count": 8,
      "metadata": {
        "colab": {
          "base_uri": "https://localhost:8080/"
        },
        "id": "0zDPc5teevv3",
        "outputId": "2d8a2933-d5bf-4d20-905b-d3a6f39a66a5"
      },
      "outputs": [
        {
          "output_type": "stream",
          "name": "stdout",
          "text": [
            "C1000    17326\n",
            "C2000     6074\n",
            "C1200     4837\n",
            "C3000     1918\n",
            "C2100     1883\n",
            "C7000      777\n",
            "C1700      287\n",
            "C4000      194\n",
            "C5000      116\n",
            "C1270      114\n",
            "C2700      104\n",
            "C2800       95\n",
            "C7100       75\n",
            "C1300       58\n",
            "C1280       50\n",
            "C1230       36\n",
            "C1400       34\n",
            "C7200       32\n",
            "C2300       32\n",
            "C1240       30\n",
            "C8000       20\n",
            "C7120       18\n",
            "C1500       16\n",
            "C1800       15\n",
            "C6000       15\n",
            "C1250       14\n",
            "C8200       11\n",
            "C1238       10\n",
            "C1278       10\n",
            "C1235        9\n",
            "C1237        9\n",
            "C7210        7\n",
            "C2400        6\n",
            "C1720        6\n",
            "C4100        6\n",
            "C1257        5\n",
            "C1600        5\n",
            "C1260        3\n",
            "C2710        3\n",
            "C0           3\n",
            "C3200        2\n",
            "C1234        2\n",
            "C1246        2\n",
            "C1267        2\n",
            "C1256        2\n",
            "Name: CLASSIFICATION, dtype: int64\n"
          ]
        }
      ],
      "source": [
        "# You may find it helpful to look at CLASSIFICATION value counts >1\n",
        "classification_value_counts = application_df['CLASSIFICATION'].value_counts()\n",
        "classification_value_counts_greater_than_1 = classification_value_counts[classification_value_counts > 1]\n",
        "print(classification_value_counts_greater_than_1)"
      ]
    },
    {
      "cell_type": "code",
      "execution_count": 14,
      "metadata": {
        "colab": {
          "base_uri": "https://localhost:8080/"
        },
        "id": "dxPcWm2_evv4",
        "outputId": "bbcb5ecb-516b-415f-dd11-b842e58d2539"
      },
      "outputs": [
        {
          "output_type": "stream",
          "name": "stdout",
          "text": [
            "C1000    17326\n",
            "C2000     6074\n",
            "C1200     4837\n",
            "C3000     1918\n",
            "C2100     1883\n",
            "Other     1003\n",
            "C7000      777\n",
            "C1700      287\n",
            "C4000      194\n",
            "Name: CLASSIFICATION, dtype: int64\n"
          ]
        }
      ],
      "source": [
        "# Choose a cutoff value and create a list of classifications to be replaced\n",
        "# use the variable name `classifications_to_replace`\n",
        "cutoff_values = 188\n",
        "\n",
        "below_cutoff_classifications = application_df['CLASSIFICATION'].value_counts()[application_df['CLASSIFICATION'].value_counts() < cutoff_values].index.tolist()\n",
        "# Replace in dataframe\n",
        "application_df['CLASSIFICATION'] = application_df['CLASSIFICATION'].apply(lambda x: 'Other' if x in below_cutoff_classifications else x)\n",
        "\n",
        "# Check to make sure binning was successful\n",
        "classification_value_counts = application_df['CLASSIFICATION'].value_counts()\n",
        "print(classification_value_counts)"
      ]
    },
    {
      "cell_type": "code",
      "execution_count": 16,
      "metadata": {
        "colab": {
          "base_uri": "https://localhost:8080/"
        },
        "id": "6oX9sARHevv8",
        "outputId": "d597eefc-a536-45b3-915b-b61b84a46cdb"
      },
      "outputs": [
        {
          "output_type": "stream",
          "name": "stdout",
          "text": [
            "   STATUS  ASK_AMT  IS_SUCCESSFUL  APPLICATION_TYPE_Other  \\\n",
            "0       1     5000              1                       0   \n",
            "1       1   108590              1                       0   \n",
            "2       1     5000              0                       0   \n",
            "3       1     6692              1                       0   \n",
            "4       1   142590              1                       0   \n",
            "\n",
            "   APPLICATION_TYPE_T10  APPLICATION_TYPE_T19  APPLICATION_TYPE_T3  \\\n",
            "0                     1                     0                    0   \n",
            "1                     0                     0                    1   \n",
            "2                     0                     0                    0   \n",
            "3                     0                     0                    1   \n",
            "4                     0                     0                    1   \n",
            "\n",
            "   APPLICATION_TYPE_T4  APPLICATION_TYPE_T5  APPLICATION_TYPE_T6  ...  \\\n",
            "0                    0                    0                    0  ...   \n",
            "1                    0                    0                    0  ...   \n",
            "2                    0                    1                    0  ...   \n",
            "3                    0                    0                    0  ...   \n",
            "4                    0                    0                    0  ...   \n",
            "\n",
            "   INCOME_AMT_1-9999  INCOME_AMT_10000-24999  INCOME_AMT_100000-499999  \\\n",
            "0                  0                       0                         0   \n",
            "1                  1                       0                         0   \n",
            "2                  0                       0                         0   \n",
            "3                  0                       1                         0   \n",
            "4                  0                       0                         1   \n",
            "\n",
            "   INCOME_AMT_10M-50M  INCOME_AMT_1M-5M  INCOME_AMT_25000-99999  \\\n",
            "0                   0                 0                       0   \n",
            "1                   0                 0                       0   \n",
            "2                   0                 0                       0   \n",
            "3                   0                 0                       0   \n",
            "4                   0                 0                       0   \n",
            "\n",
            "   INCOME_AMT_50M+  INCOME_AMT_5M-10M  SPECIAL_CONSIDERATIONS_N  \\\n",
            "0                0                  0                         1   \n",
            "1                0                  0                         1   \n",
            "2                0                  0                         1   \n",
            "3                0                  0                         1   \n",
            "4                0                  0                         1   \n",
            "\n",
            "   SPECIAL_CONSIDERATIONS_Y  \n",
            "0                         0  \n",
            "1                         0  \n",
            "2                         0  \n",
            "3                         0  \n",
            "4                         0  \n",
            "\n",
            "[5 rows x 47 columns]\n"
          ]
        }
      ],
      "source": [
        "# Convert categorical data to numeric with `pd.get_dummies`\n",
        "application_df = pd.get_dummies(application_df, columns =['APPLICATION_TYPE', 'AFFILIATION', 'CLASSIFICATION', 'USE_CASE', 'ORGANIZATION', 'INCOME_AMT', 'SPECIAL_CONSIDERATIONS'])\n",
        "print(application_df.head())"
      ]
    },
    {
      "cell_type": "code",
      "execution_count": 17,
      "metadata": {
        "colab": {
          "base_uri": "https://localhost:8080/"
        },
        "id": "eaqo-x8cevv_",
        "outputId": "76094693-2dee-4af1-ed61-83c8a45c6b02"
      },
      "outputs": [
        {
          "output_type": "stream",
          "name": "stdout",
          "text": [
            "X_train shape: (27439, 46)\n",
            "X_test shape: (6860, 46)\n",
            "y_train shape: (27439,)\n",
            "y_test shape: (6860,)\n"
          ]
        }
      ],
      "source": [
        "from sklearn.model_selection import train_test_split\n",
        "\n",
        "# Split our preprocessed data into our features and target arrays\n",
        "X = application_df.drop('IS_SUCCESSFUL', axis=1)\n",
        "y = application_df['IS_SUCCESSFUL']\n",
        "\n",
        "# Split the preprocessed data into a training and testing dataset\n",
        "X_train, X_test, y_train, y_test = train_test_split(X, y, test_size=0.2, random_state=42, stratify=y)\n",
        "\n",
        "# Display the shape of the split datasets\n",
        "print(\"X_train shape:\", X_train.shape)\n",
        "print(\"X_test shape:\", X_test.shape)\n",
        "print(\"y_train shape:\", y_train.shape)\n",
        "print(\"y_test shape:\", y_test.shape)"
      ]
    },
    {
      "cell_type": "code",
      "execution_count": 19,
      "metadata": {
        "id": "CD-s3nUdevwD"
      },
      "outputs": [],
      "source": [
        "# Create a StandardScaler instances\n",
        "scaler = StandardScaler()\n",
        "\n",
        "# Fit the StandardScaler\n",
        "X_scaler = scaler.fit(X_train)\n",
        "\n",
        "# Scale the data\n",
        "X_train_scaled = X_scaler.transform(X_train)\n",
        "X_test_scaled = X_scaler.transform(X_test)"
      ]
    },
    {
      "cell_type": "markdown",
      "metadata": {
        "id": "ikI3_uBeevwE"
      },
      "source": [
        "## Compile, Train and Evaluate the Model"
      ]
    },
    {
      "cell_type": "code",
      "execution_count": 20,
      "metadata": {
        "colab": {
          "base_uri": "https://localhost:8080/"
        },
        "id": "9tNHJWdpevwF",
        "outputId": "644c29e6-edeb-43cf-be63-06eb8f226b27"
      },
      "outputs": [
        {
          "output_type": "stream",
          "name": "stdout",
          "text": [
            "Model: \"sequential\"\n",
            "_________________________________________________________________\n",
            " Layer (type)                Output Shape              Param #   \n",
            "=================================================================\n",
            " dense (Dense)               (None, 128)               6016      \n",
            "                                                                 \n",
            " dense_1 (Dense)             (None, 64)                8256      \n",
            "                                                                 \n",
            " dense_2 (Dense)             (None, 1)                 65        \n",
            "                                                                 \n",
            "=================================================================\n",
            "Total params: 14,337\n",
            "Trainable params: 14,337\n",
            "Non-trainable params: 0\n",
            "_________________________________________________________________\n"
          ]
        }
      ],
      "source": [
        "import tensorflow as tf\n",
        "\n",
        "# Define the model\n",
        "nn = tf.keras.models.Sequential()\n",
        "\n",
        "# Add the first hidden layer\n",
        "nn.add(tf.keras.layers.Dense(units=128, activation='relu', input_dim=X_train_scaled.shape[1]))\n",
        "\n",
        "# Add the second hidden layer\n",
        "nn.add(tf.keras.layers.Dense(units=64, activation='relu'))\n",
        "\n",
        "# Add the output layer\n",
        "nn.add(tf.keras.layers.Dense(units=1, activation='sigmoid'))\n",
        "\n",
        "# Check the structure of the model\n",
        "nn.summary()"
      ]
    },
    {
      "cell_type": "code",
      "execution_count": 22,
      "metadata": {
        "id": "YEBrjvzCevwH"
      },
      "outputs": [],
      "source": [
        "\n",
        "# Compile the model\n",
        "nn.compile(loss='binary_crossentropy', optimizer='adam', metrics=['accuracy'])"
      ]
    },
    {
      "cell_type": "code",
      "execution_count": 23,
      "metadata": {
        "colab": {
          "base_uri": "https://localhost:8080/"
        },
        "id": "pQ4Z8PdMevwI",
        "outputId": "dd42e1f3-e41e-45aa-cb55-ff78a27b9072"
      },
      "outputs": [
        {
          "output_type": "stream",
          "name": "stdout",
          "text": [
            "Epoch 1/50\n",
            "108/108 [==============================] - 2s 7ms/step - loss: 0.5798 - accuracy: 0.7100 - val_loss: 0.5625 - val_accuracy: 0.7229\n",
            "Epoch 2/50\n",
            "108/108 [==============================] - 1s 5ms/step - loss: 0.5544 - accuracy: 0.7305 - val_loss: 0.5616 - val_accuracy: 0.7201\n",
            "Epoch 3/50\n",
            "108/108 [==============================] - 0s 4ms/step - loss: 0.5507 - accuracy: 0.7328 - val_loss: 0.5577 - val_accuracy: 0.7232\n",
            "Epoch 4/50\n",
            "108/108 [==============================] - 0s 5ms/step - loss: 0.5493 - accuracy: 0.7320 - val_loss: 0.5557 - val_accuracy: 0.7217\n",
            "Epoch 5/50\n",
            "108/108 [==============================] - 1s 5ms/step - loss: 0.5475 - accuracy: 0.7332 - val_loss: 0.5560 - val_accuracy: 0.7213\n",
            "Epoch 6/50\n",
            "108/108 [==============================] - 1s 5ms/step - loss: 0.5465 - accuracy: 0.7336 - val_loss: 0.5544 - val_accuracy: 0.7214\n",
            "Epoch 7/50\n",
            "108/108 [==============================] - 1s 5ms/step - loss: 0.5452 - accuracy: 0.7336 - val_loss: 0.5552 - val_accuracy: 0.7236\n",
            "Epoch 8/50\n",
            "108/108 [==============================] - 1s 5ms/step - loss: 0.5453 - accuracy: 0.7359 - val_loss: 0.5551 - val_accuracy: 0.7245\n",
            "Epoch 9/50\n",
            "108/108 [==============================] - 0s 5ms/step - loss: 0.5442 - accuracy: 0.7336 - val_loss: 0.5528 - val_accuracy: 0.7246\n",
            "Epoch 10/50\n",
            "108/108 [==============================] - 1s 5ms/step - loss: 0.5437 - accuracy: 0.7362 - val_loss: 0.5543 - val_accuracy: 0.7216\n",
            "Epoch 11/50\n",
            "108/108 [==============================] - 1s 6ms/step - loss: 0.5432 - accuracy: 0.7352 - val_loss: 0.5537 - val_accuracy: 0.7261\n",
            "Epoch 12/50\n",
            "108/108 [==============================] - 1s 8ms/step - loss: 0.5427 - accuracy: 0.7360 - val_loss: 0.5552 - val_accuracy: 0.7195\n",
            "Epoch 13/50\n",
            "108/108 [==============================] - 1s 7ms/step - loss: 0.5424 - accuracy: 0.7366 - val_loss: 0.5561 - val_accuracy: 0.7203\n",
            "Epoch 14/50\n",
            "108/108 [==============================] - 1s 7ms/step - loss: 0.5421 - accuracy: 0.7350 - val_loss: 0.5532 - val_accuracy: 0.7239\n",
            "Epoch 15/50\n",
            "108/108 [==============================] - 1s 5ms/step - loss: 0.5420 - accuracy: 0.7360 - val_loss: 0.5539 - val_accuracy: 0.7226\n",
            "Epoch 16/50\n",
            "108/108 [==============================] - 0s 4ms/step - loss: 0.5419 - accuracy: 0.7378 - val_loss: 0.5522 - val_accuracy: 0.7248\n",
            "Epoch 17/50\n",
            "108/108 [==============================] - 1s 5ms/step - loss: 0.5415 - accuracy: 0.7367 - val_loss: 0.5542 - val_accuracy: 0.7251\n",
            "Epoch 18/50\n",
            "108/108 [==============================] - 1s 8ms/step - loss: 0.5408 - accuracy: 0.7371 - val_loss: 0.5536 - val_accuracy: 0.7267\n",
            "Epoch 19/50\n",
            "108/108 [==============================] - 1s 5ms/step - loss: 0.5409 - accuracy: 0.7382 - val_loss: 0.5544 - val_accuracy: 0.7222\n",
            "Epoch 20/50\n",
            "108/108 [==============================] - 1s 5ms/step - loss: 0.5403 - accuracy: 0.7383 - val_loss: 0.5545 - val_accuracy: 0.7233\n",
            "Epoch 21/50\n",
            "108/108 [==============================] - 1s 5ms/step - loss: 0.5405 - accuracy: 0.7369 - val_loss: 0.5522 - val_accuracy: 0.7239\n",
            "Epoch 22/50\n",
            "108/108 [==============================] - 1s 5ms/step - loss: 0.5398 - accuracy: 0.7377 - val_loss: 0.5533 - val_accuracy: 0.7219\n",
            "Epoch 23/50\n",
            "108/108 [==============================] - 1s 5ms/step - loss: 0.5396 - accuracy: 0.7378 - val_loss: 0.5538 - val_accuracy: 0.7249\n",
            "Epoch 24/50\n",
            "108/108 [==============================] - 0s 5ms/step - loss: 0.5401 - accuracy: 0.7360 - val_loss: 0.5531 - val_accuracy: 0.7214\n",
            "Epoch 25/50\n",
            "108/108 [==============================] - 1s 5ms/step - loss: 0.5400 - accuracy: 0.7365 - val_loss: 0.5529 - val_accuracy: 0.7229\n",
            "Epoch 26/50\n",
            "108/108 [==============================] - 1s 5ms/step - loss: 0.5392 - accuracy: 0.7377 - val_loss: 0.5527 - val_accuracy: 0.7258\n",
            "Epoch 27/50\n",
            "108/108 [==============================] - 0s 5ms/step - loss: 0.5394 - accuracy: 0.7377 - val_loss: 0.5527 - val_accuracy: 0.7255\n",
            "Epoch 28/50\n",
            "108/108 [==============================] - 1s 5ms/step - loss: 0.5392 - accuracy: 0.7385 - val_loss: 0.5539 - val_accuracy: 0.7270\n",
            "Epoch 29/50\n",
            "108/108 [==============================] - 1s 5ms/step - loss: 0.5391 - accuracy: 0.7377 - val_loss: 0.5518 - val_accuracy: 0.7254\n",
            "Epoch 30/50\n",
            "108/108 [==============================] - 1s 5ms/step - loss: 0.5393 - accuracy: 0.7373 - val_loss: 0.5526 - val_accuracy: 0.7267\n",
            "Epoch 31/50\n",
            "108/108 [==============================] - 1s 5ms/step - loss: 0.5388 - accuracy: 0.7383 - val_loss: 0.5530 - val_accuracy: 0.7226\n",
            "Epoch 32/50\n",
            "108/108 [==============================] - 1s 5ms/step - loss: 0.5382 - accuracy: 0.7388 - val_loss: 0.5530 - val_accuracy: 0.7277\n",
            "Epoch 33/50\n",
            "108/108 [==============================] - 1s 8ms/step - loss: 0.5385 - accuracy: 0.7369 - val_loss: 0.5536 - val_accuracy: 0.7226\n",
            "Epoch 34/50\n",
            "108/108 [==============================] - 1s 13ms/step - loss: 0.5383 - accuracy: 0.7387 - val_loss: 0.5517 - val_accuracy: 0.7245\n",
            "Epoch 35/50\n",
            "108/108 [==============================] - 2s 16ms/step - loss: 0.5388 - accuracy: 0.7382 - val_loss: 0.5552 - val_accuracy: 0.7251\n",
            "Epoch 36/50\n",
            "108/108 [==============================] - 1s 9ms/step - loss: 0.5379 - accuracy: 0.7383 - val_loss: 0.5525 - val_accuracy: 0.7264\n",
            "Epoch 37/50\n",
            "108/108 [==============================] - 1s 8ms/step - loss: 0.5379 - accuracy: 0.7379 - val_loss: 0.5529 - val_accuracy: 0.7270\n",
            "Epoch 38/50\n",
            "108/108 [==============================] - 1s 8ms/step - loss: 0.5376 - accuracy: 0.7395 - val_loss: 0.5540 - val_accuracy: 0.7286\n",
            "Epoch 39/50\n",
            "108/108 [==============================] - 1s 9ms/step - loss: 0.5377 - accuracy: 0.7388 - val_loss: 0.5570 - val_accuracy: 0.7226\n",
            "Epoch 40/50\n",
            "108/108 [==============================] - 1s 8ms/step - loss: 0.5375 - accuracy: 0.7394 - val_loss: 0.5542 - val_accuracy: 0.7248\n",
            "Epoch 41/50\n",
            "108/108 [==============================] - 1s 8ms/step - loss: 0.5373 - accuracy: 0.7400 - val_loss: 0.5541 - val_accuracy: 0.7268\n",
            "Epoch 42/50\n",
            "108/108 [==============================] - 1s 5ms/step - loss: 0.5369 - accuracy: 0.7404 - val_loss: 0.5535 - val_accuracy: 0.7252\n",
            "Epoch 43/50\n",
            "108/108 [==============================] - 0s 5ms/step - loss: 0.5372 - accuracy: 0.7393 - val_loss: 0.5523 - val_accuracy: 0.7206\n",
            "Epoch 44/50\n",
            "108/108 [==============================] - 0s 4ms/step - loss: 0.5372 - accuracy: 0.7389 - val_loss: 0.5536 - val_accuracy: 0.7264\n",
            "Epoch 45/50\n",
            "108/108 [==============================] - 1s 5ms/step - loss: 0.5374 - accuracy: 0.7408 - val_loss: 0.5542 - val_accuracy: 0.7259\n",
            "Epoch 46/50\n",
            "108/108 [==============================] - 0s 5ms/step - loss: 0.5366 - accuracy: 0.7398 - val_loss: 0.5534 - val_accuracy: 0.7245\n",
            "Epoch 47/50\n",
            "108/108 [==============================] - 0s 5ms/step - loss: 0.5365 - accuracy: 0.7392 - val_loss: 0.5560 - val_accuracy: 0.7261\n",
            "Epoch 48/50\n",
            "108/108 [==============================] - 0s 4ms/step - loss: 0.5370 - accuracy: 0.7397 - val_loss: 0.5526 - val_accuracy: 0.7248\n",
            "Epoch 49/50\n",
            "108/108 [==============================] - 0s 4ms/step - loss: 0.5370 - accuracy: 0.7395 - val_loss: 0.5536 - val_accuracy: 0.7245\n",
            "Epoch 50/50\n",
            "108/108 [==============================] - 1s 5ms/step - loss: 0.5370 - accuracy: 0.7393 - val_loss: 0.5546 - val_accuracy: 0.7254\n"
          ]
        }
      ],
      "source": [
        "# Train the model\n",
        "# Train the model\n",
        "history = nn.fit(X_train_scaled, y_train, epochs=50, batch_size=256, validation_data=(X_test_scaled, y_test))"
      ]
    },
    {
      "cell_type": "code",
      "execution_count": 24,
      "metadata": {
        "colab": {
          "base_uri": "https://localhost:8080/"
        },
        "id": "LZyNc-yhevwL",
        "outputId": "23ba698c-924f-427a-bd8d-85911733063d"
      },
      "outputs": [
        {
          "output_type": "stream",
          "name": "stdout",
          "text": [
            "215/215 - 0s - loss: 0.5546 - accuracy: 0.7254 - 315ms/epoch - 1ms/step\n",
            "Loss: 0.5546149015426636, Accuracy: 0.7253644466400146\n"
          ]
        }
      ],
      "source": [
        "# Evaluate the model using the test data\n",
        "model_loss, model_accuracy = nn.evaluate(X_test_scaled,y_test,verbose=2)\n",
        "print(f\"Loss: {model_loss}, Accuracy: {model_accuracy}\")"
      ]
    },
    {
      "cell_type": "code",
      "execution_count": 25,
      "metadata": {
        "id": "GEKBSsIRevwM"
      },
      "outputs": [],
      "source": [
        "# Export our model to HDF5 file\n",
        "nn.save(\"trained_model.h5\")"
      ]
    }
  ],
  "metadata": {
    "kernelspec": {
      "display_name": "Python 3",
      "language": "python",
      "name": "python3"
    },
    "language_info": {
      "codemirror_mode": {
        "name": "ipython",
        "version": 3
      },
      "file_extension": ".py",
      "mimetype": "text/x-python",
      "name": "python",
      "nbconvert_exporter": "python",
      "pygments_lexer": "ipython3",
      "version": "3.-1.-1"
    },
    "vscode": {
      "interpreter": {
        "hash": "31f2aee4e71d21fbe5cf8b01ff0e069b9275f58929596ceb00d14d90e3e16cd6"
      }
    },
    "colab": {
      "provenance": [],
      "include_colab_link": true
    }
  },
  "nbformat": 4,
  "nbformat_minor": 0
}